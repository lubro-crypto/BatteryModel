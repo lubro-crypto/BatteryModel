{
 "cells": [
  {
   "cell_type": "markdown",
   "metadata": {},
   "source": [
    "# Battery Model\n",
    "## Problem \n",
    "- Build an optimisation model to charge/discharge the battery over the time period provided \n",
    "(2018-2020) in order to maximise profits. You may assume that the battery is a price-taker (ie. the \n",
    "actions of the battery have no impact on the market prices).\n",
    "- You can trade in the 3 markets. \n",
    "- The battery can export any amount of power up to its maximum discharge rate for any \n",
    "duration of time, as long as it has sufficient energy stored to do so (And same with the charging -- needs storage)\n",
    "- Markets 1 and 2 are traded at half-hourly time granularity, whereas Market 3 is traded at daily \n",
    "granularity \n",
    "- The battery cannot sell the same unit of power into multiple markets, but can divide its power \n",
    "across the markets (The energy you give or take to the markets must add up to the total energy difference)\n",
    "- For the battery to participate in Markets 1 and 2, it must export/import a constant level of \n",
    "power for the full half-hour period \n",
    "For the battery to participate in Market 3, it must export/import a constant level of power for \n",
    "the full day \n",
    "## Inputs\n",
    "- Parameters are stored in the \"config.yml\" file\n",
    "- Price data is stored in csv file - \"data/input_data/market12_data.csv\" and \"data/input_data/market3_data.csv\"\n",
    "- Also there is information about the total production and different types of electricity production\n",
    "## Outputs\n",
    "- [ ] Total profits (Revenue - capex - opex*time)\n",
    "- [ ] Data - Total energy in, Total energy out + any other profits \n",
    "- [ ] Plots for all optimisation variables - NICE TO HAVE\n",
    "- [ ] Short description\n",
    "- [ ] Dependencies\n",
    "## Process\n",
    "- However, I have decided to create 5 tasks \n",
    "1. Decide energy in and out from Market 1 with no change in capacity \n",
    "2. Decide energy in and out from Market 1 with change in capacity\n",
    "3. Decide energy in and out from Market 1 and 2 with change in capacity\n",
    "4. Decide energy in and out from Market 1, 2 and 3 with change in capacity\n",
    "5. Decide energy in and out from Market 1, 2 and 3 with change in capacity with difference in energy in and out efficiency. **(Explain later)**\n",
    "6. Decide energy in and out from Market 1, 2 and 3 with change in capacity with weightings for different energy types."
   ]
  },
  {
   "cell_type": "markdown",
   "metadata": {},
   "source": [
    "## Variables\n",
    "- $k$ is the sample number. Here it represents the number of half an hour steps the sample is from the start. \n",
    "- The prices $u_1[k]$, $u_2[k]$ and $u_3[k]$ represent the prices of each market at sample $k$. - market 1, 2 and 3 respectively\n",
    "- The decision variables: \n",
    "- The energies into the battery at each sample ${x_{in}}_1[k]$, ${x_{in}}_2[k]$ and ${x_{in}}_3[k]$\n",
    "- The energies into the battery at each sample ${x_{out}}_1[k]$, ${x_{out}}_2[k]$ and ${x_{out}}_3[k]$\n",
    "- The net power into the battery at each sample (constant) $P_{in}[k]$\n",
    "- The net energy of the battery at each sample $E_{net}[k]$\n",
    "- The number of cycles at each sample $N_{cyc}[k]$\n",
    "- The maximum capacity of the battery at each sample $C_{max}[k]$\n",
    "## Model\n",
    "$$P_{in}[k]=\\frac{\\Sigma^3_{i=1} {x_{in}}_i[k] - {x_{out}}_i[k]}{\\Delta t}$$\n",
    "$$E_{in}[k+1] = E_{in}[k] +(\\Sigma^3_{i=1} {x_{in}}_i[k] - {x_{out}}_i[k])\\times\\mathtt{charging \\ efficiency}$$\n",
    "$$N_{cyc}[k+1]=N_{cyc}[k]+\\frac{|\\Sigma^3_{i=1} {x_{in}}_i[k] - {x_{out}}_i[k]|}{(2*C_{max}[k])}$$\n",
    "- **ASSUMING MAX CAP DOESN'T CHANGE**\n",
    "$$C_{max}[k+1]=C_{max}[k]$$"
   ]
  },
  {
   "cell_type": "markdown",
   "metadata": {},
   "source": [
    "## Assumptions\n",
    "- The battery can discharge any amount of energy up to it's current energy\n",
    "- The battery can charge any amount of energy up to it's current remaining storage\n",
    "- The power is constant throughout a sample\n",
    "- The efficiency of the charging is 95% -- therefore the battery only gets 95% of what it buys\n",
    "- The efficiency of the discharging is 95% -- therefore the battery only recieves 95% of the money that what the energy discharged cost\n",
    "- The battery can charge and discharge at the same time\n",
    "- **The battery maximum capacity does not change with time**\n",
    "- **The battery can only use market 1**\n",
    "## Initialisation\n",
    "$$E_{net}[0]=0\\mathtt{\\ MW}\\\\\n",
    "N_{cyc}[0]=0 \\\\ \n",
    "C_{max}=0\\mathtt{\\ MW}\n",
    "$$"
   ]
  },
  {
   "cell_type": "markdown",
   "metadata": {},
   "source": [
    "## Objective\n",
    "- We want to maximise the profits by minimise the costs of the charging the batteries \n",
    "$$\\begin{aligned}\n",
    "\\min_{{x_{in}}_1,{x_{out}}_1,{x_{in}}_2,{x_{out}}_2,{x_{in}}_3,{x_{out}}_3} \\Sigma^3_{i=1} ({x_{in}}_i[k] - {x_{out}}_i[k])\\times u_i[k]\n",
    "\\end{aligned}$$"
   ]
  },
  {
   "cell_type": "markdown",
   "metadata": {},
   "source": [
    "## Constraints\n",
    "- Additional to the model constaints\n",
    "- Power is limited to the maximum charging and discharging rate \n",
    "$$\\mathtt{max \\ discharging \\ rate} <= P_{in}[k] <= \\mathtt{max \\ discharging \\ rate} $$\n",
    "- The number of cycles is a parameter that must be exceeded\n",
    "$$ 0 <= N_{cyc}[k] <= \\mathtt{max \\ cycles}$$\n",
    "- The number of years is also limited\n",
    "$$ 0 <= k / 31,536,000 <= \\mathtt{max \\ cycles}$$\n",
    "- The energy is limited by its maximum capacity\n",
    "$$ 0 <= E_{net}[k] <= C_{max}[k]$$\n",
    "- The maximum capacity, although changes, never goes over the original max capacity\n",
    "$$ 0 <= C_{max}[k] <= C_{max}[0]$$\n",
    "## Solver choice \n",
    "- Since the problem is linear. I chose the solver - High performance solver for linear optimisation"
   ]
  },
  {
   "cell_type": "code",
   "execution_count": 1,
   "metadata": {},
   "outputs": [
    {
     "ename": "LoadError",
     "evalue": "UndefVarError: `BatteryParams` not defined",
     "output_type": "error",
     "traceback": [
      "UndefVarError: `BatteryParams` not defined",
      "",
      "Stacktrace:",
      " [1] top-level scope",
      "   @ In[1]:10"
     ]
    }
   ],
   "source": [
    "using IJulia, CSV, DataFrames, JuMP, YAML, Infiltrator\n",
    "include(\"batterymodel.jl\")\n",
    "include(\"plot_funcs.jl\")\n",
    "\n",
    "input_data = CSV.read(\"data/input_data/market12_data.csv\", DataFrame)\n",
    "config_data = YAML.load_file(\"config.yml\")\n",
    "\n",
    "marketprices1 = input_data.Market_1\n",
    "start_point = input_data.time[1]\n",
    "params = BatteryModel.BatteryParams(\n",
    "            config_data[\"max_charging_rate\"],\n",
    "            config_data[\"max_discharging_rate\"],\n",
    "            config_data[\"max_storage_volume\"],\n",
    "            config_data[\"charging_efficiency\"],\n",
    "            config_data[\"discharging_efficiency\"],\n",
    "            config_data[\"lifetime_years\"],\n",
    "            config_data[\"lifetime_cycles\"],\n",
    "            config_data[\"degradation_rate\"],\n",
    "            config_data[\"capex\"], \n",
    "            config_data[\"opex\"]\n",
    ")\n",
    "\n",
    "marketprices1 = marketprices1[1:100]\n",
    "print(\"market prices1: $marketprices1\")\n",
    "\n"
   ]
  },
  {
   "cell_type": "code",
   "execution_count": null,
   "metadata": {},
   "outputs": [
    {
     "name": "stderr",
     "output_type": "stream",
     "text": [
      "WARNING: both BatteryModel and BatteryModel export \"optimise_battery_charge\"; uses of it in module Main must be qualified\n"
     ]
    },
    {
     "ename": "LoadError",
     "evalue": "UndefVarError: `optimise_battery_charge` not defined",
     "output_type": "error",
     "traceback": [
      "UndefVarError: `optimise_battery_charge` not defined",
      "",
      "Stacktrace:",
      " [1] top-level scope",
      "   @ In[3]:1"
     ]
    }
   ],
   "source": [
    "energy_in1, energy_out1, energies, cycle, maximum_capacities = optimise_battery_charge(marketprices1, params)\n",
    "\n"
   ]
  },
  {
   "cell_type": "code",
   "execution_count": null,
   "metadata": {},
   "outputs": [],
   "source": [
    "plot_battery_performance(marketprices1, energy_in1, energy_out1, energies, cycle, maximum_capacities)\n",
    "\n",
    "write_battery_performance(marketprices1, energy_in1, energy_out1, energies, cycle, maximum_capacities, start_point)"
   ]
  }
 ],
 "metadata": {
  "kernelspec": {
   "display_name": "Julia 1.10.4",
   "language": "julia",
   "name": "julia-1.10"
  },
  "language_info": {
   "file_extension": ".jl",
   "mimetype": "application/julia",
   "name": "julia",
   "version": "1.10.4"
  }
 },
 "nbformat": 4,
 "nbformat_minor": 2
}
