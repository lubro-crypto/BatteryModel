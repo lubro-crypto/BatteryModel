{
 "cells": [
  {
   "cell_type": "code",
   "execution_count": 5,
   "metadata": {},
   "outputs": [
    {
     "name": "stdout",
     "output_type": "stream",
     "text": [
      "Running HiGHS 1.7.2 (git hash: 5ce7a2753): Copyright (c) 2024 HiGHS under MIT licence terms\n",
      "Coefficient ranges:\n",
      "  Matrix [1e+00, 1e+00]\n",
      "  Cost   [1e+00, 1e+00]\n",
      "  Bound  [0e+00, 0e+00]\n",
      "  RHS    [5e+00, 7e+00]\n",
      "Presolving model\n",
      "0 rows, 0 cols, 0 nonzeros  0s\n",
      "0 rows, 0 cols, 0 nonzeros  0s\n",
      "Presolve : Reductions: rows 0(-15); columns 0(-10); elements 0(-25) - Reduced to empty\n",
      "Solving the original LP from the solution after postsolve\n",
      "Model   status      : Optimal\n",
      "Objective value     : -2.7000000000e+01\n",
      "HiGHS run time      :          0.00\n",
      "Optimal value of x: [-5.0, -5.0, -7.0, -5.0, -5.0]\n",
      "Optimal value of t: [5.0, 5.0, 7.0, 5.0, 5.0]\n"
     ]
    }
   ],
   "source": [
    "using JuMP\n",
    "using HiGHS\n",
    "\n",
    "# Create a model with GLPK optimizer\n",
    "model = Model(HiGHS.Optimizer)\n",
    "\n",
    "# Define the variable\n",
    "@variable(model, x[1:5])\n",
    "\n",
    "# Define the auxiliary variable for the absolute value\n",
    "@variable(model, t[1:5])\n",
    "\n",
    "@variable(model, y[1:5], lower_bound=0.0, upper_bound==5.0)\n",
    "\n",
    "# Define the equality constraint |x| = b using Auxiliary Variable method\n",
    "b = ones(5).*5.0\n",
    "b[3] = 7.0\n",
    "@constraint(model, x <= t)\n",
    "@constraint(model, -x <= t)\n",
    "@constraint(model, t == b)\n",
    "\n",
    "# Define the objective function (example: minimize x)\n",
    "@objective(model, Min, sum(x))\n",
    "\n",
    "# Solve the model\n",
    "optimize!(model)\n",
    "\n",
    "# Print the results\n",
    "println(\"Optimal value of x: \", value.(x))\n",
    "println(\"Optimal value of t: \", value.(t))\n"
   ]
  }
 ],
 "metadata": {
  "kernelspec": {
   "display_name": "Julia 1.10.4",
   "language": "julia",
   "name": "julia-1.10"
  },
  "language_info": {
   "file_extension": ".jl",
   "mimetype": "application/julia",
   "name": "julia",
   "version": "1.10.4"
  }
 },
 "nbformat": 4,
 "nbformat_minor": 2
}
