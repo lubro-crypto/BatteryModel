{
 "cells": [
  {
   "cell_type": "markdown",
   "metadata": {},
   "source": [
    "# Battery Model\n",
    "## Problem \n",
    "- Build an optimisation model to charge/discharge the battery over the time period provided \n",
    "(2018-2020) in order to maximise profits. You may assume that the battery is a price-taker (ie. the \n",
    "actions of the battery have no impact on the market prices).\n",
    "- You can trade in the 3 markets. \n",
    "- The battery can export any amount of power up to its maximum discharge rate for any \n",
    "duration of time, as long as it has sufficient energy stored to do so (And same with the charging -- needs storage)\n",
    "- Markets 1 and 2 are traded at half-hourly time granularity, whereas Market 3 is traded at daily \n",
    "granularity \n",
    "- The battery cannot sell the same unit of power into multiple markets, but can divide its power \n",
    "across the markets (The energy you give or take to the markets must add up to the total energy difference)\n",
    "- For the battery to participate in Markets 1 and 2, it must export/import a constant level of \n",
    "power for the full half-hour period \n",
    "For the battery to participate in Market 3, it must export/import a constant level of power for \n",
    "the full day \n",
    "## Inputs\n",
    "- Parameters are stored in the \"config.yml\" file\n",
    "- Price data is stored in csv file - \"data/input_data/market12_data.csv\" and \"data/input_data/market3_data.csv\"\n",
    "- Also there is information about the total production and different types of electricity production\n",
    "## Outputs\n",
    "- Total profits (Revenue - capex - opex*time)\n",
    "- Data - Total energy in, Total energy out + any other profits \n",
    "- Plots for all optimisation variables - NICE TO HAVE\n",
    "- Short description\n",
    "- Dependencies\n",
    "## Process\n",
    "- I have decided to create 5 essential tasks \n",
    "1. Decide energy in and out from Market 1 with no change in capacity \n",
    "2. Decide energy in and out from Market 1 and 2 with no change in capacity\n",
    "3. Decide energy in and out from Market 1 and 2 with change in capacity\n",
    "4. Decide energy in and out from Market 1, 2 and 3 with change in capacity\n",
    "5. Decide energy in and out from Market 1, 2 and 3 with change in capacity with difference in energy in and out efficiency. **(Explain later)**\n",
    "6. Decide energy in and out from Market 1, 2 and 3 with change in capacity with weightings for different energy types."
   ]
  },
  {
   "cell_type": "markdown",
   "metadata": {},
   "source": [
    "## Variables\n",
    "- $k$ is the sample number. Here it represents the number of half an hour steps the sample is from the start. \n",
    "- $m$ is the number of days from the start\n",
    "- The prices $u_1[k]$, $u_2[k]$ and $u_3[m]$ represent the prices of each market at sample $k$. - market 1, 2 and 3 respectively\n",
    "- The decision variables: \n",
    "- The energies into the battery at each sample ${x_{in}}_1[k]$, ${x_{in}}_2[k]$ and ${x_{in}}_3[m]$\n",
    "- The energies into the battery at each sample ${x_{out}}_1[k]$, ${x_{out}}_2[k]$ and ${x_{out}}_3[m]$\n",
    "- The net energy of the battery at each sample $E_{net}[k]$\n",
    "- The number of cycles at each sample $N_{cyc}[k]$\n",
    "- The maximum capacity of the battery at each sample $C_{max}[k]$\n",
    "- We use a dummy variable to linearise the cycles model constraint $t[k]$\n",
    "## Model\n",
    "$$P_{in}[k]=\\frac{\\Sigma^2_{i=1} {x_{in}}_i[k] - {x_{out}}_i[k]}{\\Delta t}$$\n",
    "$$C_{max}[k+1]=C_{max}[k] - \\mathtt{max \\ storage}\\times(\\mathtt{degradation \\ rate})^{N_{cyc}[k+1]-N_{cyc}[k]}\\approx\\mathtt{max \\ storage}\\times(1+ln(\\mathtt{degradation \\ rate}\\times N_{cyc}[k]))$$\n",
    "$$E_{in}[k+1] = E_{in}[k] +(\\Sigma^2_{i=1} {x_{in}}_i[k] - {x_{out}}_i[k])\\times\\mathtt{charging \\ efficiency}$$\n",
    "$$N_{cyc}[k+1]=N_{cyc}[k]+\\frac{|\\Sigma^2_{i=1} {x_{in}}_i[k] - {x_{out}}_i[k]|}{(2*C_{max}[k])}$$"
   ]
  },
  {
   "cell_type": "markdown",
   "metadata": {},
   "source": [
    "## Assumptions\n",
    "- The battery can discharge any amount of energy up to it's current energy\n",
    "- The battery can charge any amount of energy up to it's current remaining storage\n",
    "- The power is constant throughout a sample\n",
    "- The efficiency of the charging is 95% -- therefore the battery only gets 95% of what it buys\n",
    "- The efficiency of the discharging is 95% -- therefore the battery only recieves 95% of the money that what the energy discharged cost\n",
    "- The battery can charge and discharge at the same time --> Energy in and energy out can both be positive\n",
    "- **The battery maximum capacity does not change with time**\n",
    "- **The battery can only use market 1 and 2**\n",
    "## Initialisation\n",
    "$$E_{net}[0]=0\\mathtt{\\ MW}\\\\\n",
    "N_{cyc}[0]=0 \\\\ \n",
    "C_{max}=\\mathtt{maximum \\ storage \\ volume\\ MW}\n",
    "$$"
   ]
  },
  {
   "cell_type": "markdown",
   "metadata": {},
   "source": [
    "## Objective\n",
    "- We want to maximise the profits by minimise the costs of the charging the batteries \n",
    "$$\\begin{aligned}\n",
    "\\min_{{x_{in}}_1,{x_{out}}_1,{x_{in}}_2,{x_{out}}_2} \\Sigma^2_{i=1} ({x_{in}}_i[k] - {x_{out}}_i[k])\\times u_i[k]\n",
    "\\end{aligned}$$"
   ]
  },
  {
   "cell_type": "markdown",
   "metadata": {},
   "source": [
    "## Constraints\n",
    "- Additional to the model constaints\n",
    "- Power is limited to the maximum charging and discharging rate \n",
    "$$ \\frac{\\Sigma x_in[k]}{\\mathtt{number \\ of \\ hours}}  <= \\mathtt{max \\ charging \\ rate} $$\n",
    "$$ \\frac{\\Sigma x_out[k]}{\\mathtt{number \\ of \\ hours}}  <= \\mathtt{max \\ discharging \\ rate} $$\n",
    "- The number of cycles is a parameter that must be exceeded\n",
    "$$ 0 <= N_{cyc}[k] <= \\mathtt{max \\ cycles}$$\n",
    "- The number of years is also limited\n",
    "$$ 0 <= k / 31,536,000 <= \\mathtt{max \\ cycles}$$\n",
    "- The energy is limited by its maximum capacity\n",
    "$$ 0 <= E_{net}[k] <= C_{max}[k]$$\n",
    "## Solver choice \n",
    "- Since the problem is linear. I chose the solver - Coin branch and cut\n",
    "- Also there is an assertion to check that the next energy is equal to this energy + $\\Delta energy$ \n",
    "## References \n",
    "- \"Introduction to Operations Research\" by Frederick S. Hillier and Gerald J. Lieberman\n",
    "\n"
   ]
  },
  {
   "cell_type": "code",
   "execution_count": 1,
   "metadata": {},
   "outputs": [
    {
     "ename": "LoadError",
     "evalue": "InterruptException:",
     "output_type": "error",
     "traceback": [
      "InterruptException:",
      "",
      "Stacktrace:",
      "  [1] _include_from_serialized(pkg::Base.PkgId, path::String, ocachepath::String, depmods::Vector{Any})",
      "    @ Base ./loading.jl:1058",
      "  [2] _require_search_from_serialized(pkg::Base.PkgId, sourcepath::String, build_id::UInt128)",
      "    @ Base ./loading.jl:1581",
      "  [3] _require(pkg::Base.PkgId, env::String)",
      "    @ Base ./loading.jl:1938",
      "  [4] __require_prelocked(uuidkey::Base.PkgId, env::String)",
      "    @ Base ./loading.jl:1812",
      "  [5] #invoke_in_world#3",
      "    @ ./essentials.jl:926 [inlined]",
      "  [6] invoke_in_world",
      "    @ ./essentials.jl:923 [inlined]",
      "  [7] _require_prelocked(uuidkey::Base.PkgId, env::String)",
      "    @ Base ./loading.jl:1803",
      "  [8] macro expansion",
      "    @ ./loading.jl:1790 [inlined]",
      "  [9] macro expansion",
      "    @ ./lock.jl:267 [inlined]",
      " [10] __require(into::Module, mod::Symbol)",
      "    @ Base ./loading.jl:1753",
      " [11] #invoke_in_world#3",
      "    @ ./essentials.jl:926 [inlined]",
      " [12] invoke_in_world",
      "    @ ./essentials.jl:923 [inlined]",
      " [13] require(into::Module, mod::Symbol)",
      "    @ Base ./loading.jl:1746"
     ]
    }
   ],
   "source": [
    "using IJulia, CSV, DataFrames, JuMP, YAML, Infiltrator, Dates\n",
    "include(\"batterymodel.jl\")\n",
    "include(\"plot_funcs.jl\")\n",
    "\n",
    "input_data = CSV.read(\"data/input_data/market12_data.csv\", DataFrame)\n",
    "config_data = YAML.load_file(\"config.yml\")\n",
    "\n",
    "marketprices1 = input_data.Market_1\n",
    "marketprices2 = input_data.Market_2\n",
    "start_point = DateTime.(input_data.time[1], \"dd/mm/yyyy HH:MM\")\n",
    "params = BatteryModel.BatteryParams(\n",
    "            config_data[\"max_charging_rate\"],\n",
    "            config_data[\"max_discharging_rate\"],\n",
    "            config_data[\"max_storage_volume\"],\n",
    "            config_data[\"charging_efficiency\"],\n",
    "            config_data[\"discharging_efficiency\"],\n",
    "            config_data[\"lifetime_years\"],\n",
    "            config_data[\"lifetime_cycles\"],\n",
    "            config_data[\"degradation_rate\"],\n",
    "            config_data[\"capex\"], \n",
    "            config_data[\"opex\"]\n",
    ")\n",
    "\n",
    "N = length(marketprices1)\n",
    "marketprices = hcat(marketprices1, marketprices2)\n",
    "marketprices = marketprices.*0.5\n",
    "# marketprices = marketprices[1:Int(round(N/100)),:]\n",
    "print(\"market prices: $marketprices\")\n"
   ]
  },
  {
   "cell_type": "code",
   "execution_count": null,
   "metadata": {},
   "outputs": [],
   "source": [
    "energy_in, energy_out, energies, cycle, maximum_capacities, powers = BatteryModel.optimise_battery_charge(marketprices, params)\n",
    "\n"
   ]
  },
  {
   "cell_type": "code",
   "execution_count": null,
   "metadata": {},
   "outputs": [
    {
     "data": {
      "text/plain": [
       "\"data/output_data/battery_output_data.cvs\""
      ]
     },
     "execution_count": 12,
     "metadata": {},
     "output_type": "execute_result"
    }
   ],
   "source": [
    "PlotFuncs.plot_battery_performance(marketprices, energy_in, energy_out, energies, powers, cycle, maximum_capacities)\n",
    "\n",
    "PlotFuncs.write_battery_performance(marketprices, energy_in, energy_out, energies, cycle, maximum_capacities, start_point, params)"
   ]
  }
 ],
 "metadata": {
  "kernelspec": {
   "display_name": "Julia 1.10.4",
   "language": "julia",
   "name": "julia-1.10"
  },
  "language_info": {
   "file_extension": ".jl",
   "mimetype": "application/julia",
   "name": "julia",
   "version": "1.10.4"
  }
 },
 "nbformat": 4,
 "nbformat_minor": 2
}
