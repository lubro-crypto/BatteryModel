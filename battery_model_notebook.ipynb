{
 "cells": [
  {
   "cell_type": "markdown",
   "metadata": {},
   "source": [
    "# Battery Model\n",
    "## Problem \n",
    "- Build an optimisation model to charge/discharge the battery over the time period provided \n",
    "(2018-2020) in order to maximise profits. You may assume that the battery is a price-taker (ie. the \n",
    "actions of the battery have no impact on the market prices).\n",
    "- You can trade in the 3 markets. \n",
    "- The battery can export any amount of power up to its maximum discharge rate for any \n",
    "duration of time, as long as it has sufficient energy stored to do so (And same with the charging -- needs storage)\n",
    "- Markets 1 and 2 are traded at half-hourly time granularity, whereas Market 3 is traded at daily \n",
    "granularity \n",
    "- The battery cannot sell the same unit of power into multiple markets, but can divide its power \n",
    "across the markets (The energy you give or take to the markets must add up to the total energy difference)\n",
    "- For the battery to participate in Markets 1 and 2, it must export/import a constant level of \n",
    "power for the full half-hour period \n",
    "For the battery to participate in Market 3, it must export/import a constant level of power for \n",
    "the full day \n",
    "## Inputs\n",
    "- Parameters are stored in the \"config.yml\" file\n",
    "- Price data is stored in csv file - \"data/input_data/market12_data.csv\" and \"data/input_data/market3_data.csv\"\n",
    "- Also there is information about the total production and different types of electricity production\n",
    "## Outputs\n",
    "- [ ] Total profits (Revenue - capex - opex*time)\n",
    "- [ ] Data - Total energy in, Total energy out + any other profits \n",
    "- [ ] Plots for all optimisation variables - NICE TO HAVE\n",
    "- [ ] Short description\n",
    "- [ ] Dependencies\n",
    "## Process\n",
    "- However, I have decided to create 5 tasks \n",
    "1. Decide energy in and out from Market 1 with no change in capacity \n",
    "2. Decide energy in and out from Market 1 with change in capacity\n",
    "3. Decide energy in and out from Market 1 and 2 with change in capacity\n",
    "4. Decide energy in and out from Market 1, 2 and 3 with change in capacity\n",
    "5. Decide energy in and out from Market 1, 2 and 3 with change in capacity with difference in energy in and out efficiency. **(Explain later)**\n",
    "6. Decide energy in and out from Market 1, 2 and 3 with change in capacity with weightings for different energy types."
   ]
  },
  {
   "cell_type": "markdown",
   "metadata": {},
   "source": [
    "## Variables\n",
    "- $k$ is the sample number. Here it represents the number of half an hour steps the sample is from the start. \n",
    "- The prices $u_1[k]$, $u_2[k]$ and $u_3[k]$ represent the prices of each market at sample $k$. - market 1, 2 and 3 respectively\n",
    "- The decision variables: \n",
    "- The energies into the battery at each sample ${x_{in}}_1[k]$, ${x_{in}}_2[k]$ and ${x_{in}}_3[k]$\n",
    "- The energies into the battery at each sample ${x_{out}}_1[k]$, ${x_{out}}_2[k]$ and ${x_{out}}_3[k]$\n",
    "- The net power into the battery at each sample (constant) $P_{in}[k]$\n",
    "- The net energy of the battery at each sample $E_{net}[k]$\n",
    "- The number of cycles at each sample $N_{cyc}[k]$\n",
    "- The maximum capacity of the battery at each sample $C_{max}[k]$\n",
    "## Model\n",
    "$$P_{in}[k]=\\frac{\\Sigma^3_{i=1} {x_{in}}_i[k] - {x_{out}}_i[k]}{\\Delta t}$$\n",
    "$$E_{in}[k+1] = E_{in}[k] +(\\Sigma^3_{i=1} {x_{in}}_i[k] - {x_{out}}_i[k])\\times\\mathtt{charging \\ efficiency}$$\n",
    "$$N_{cyc}[k+1]=N_{cyc}[k]+\\frac{|\\Sigma^3_{i=1} {x_{in}}_i[k] - {x_{out}}_i[k]|}{(2*C_{max}[k])}$$\n",
    "- **ASSUMING MAX CAP DOESN'T CHANGE**\n",
    "$$C_{max}[k+1]=C_{max}[k]$$"
   ]
  },
  {
   "cell_type": "markdown",
   "metadata": {},
   "source": [
    "## Assumptions\n",
    "- The battery can discharge any amount of energy up to it's current energy\n",
    "- The battery can charge any amount of energy up to it's current remaining storage\n",
    "- The power is constant throughout a sample\n",
    "- The efficiency of the charging is 95% -- therefore the battery only gets 95% of what it buys\n",
    "- The efficiency of the discharging is 95% -- therefore the battery only recieves 95% of the money that what the energy discharged cost\n",
    "- The battery can charge and discharge at the same time\n",
    "- **The battery maximum capacity does not change with time**\n",
    "- **The battery can only use market 1**\n",
    "## Initialisation\n",
    "$$E_{net}[0]=0\\mathtt{\\ MW}\\\\\n",
    "N_{cyc}[0]=0 \\\\ \n",
    "C_{max}=0\\mathtt{\\ MW}\n",
    "$$"
   ]
  },
  {
   "cell_type": "markdown",
   "metadata": {},
   "source": [
    "## Objective\n",
    "- We want to maximise the profits by minimise the costs of the charging the batteries \n",
    "$$\\begin{aligned}\n",
    "\\min_{{x_{in}}_1,{x_{out}}_1,{x_{in}}_2,{x_{out}}_2,{x_{in}}_3,{x_{out}}_3} \\Sigma^3_{i=1} ({x_{in}}_i[k] - {x_{out}}_i[k])\\times u_i[k]\n",
    "\\end{aligned}$$"
   ]
  },
  {
   "cell_type": "markdown",
   "metadata": {},
   "source": [
    "## Constraints\n",
    "- Additional to the model constaints\n",
    "- Power is limited to the maximum charging and discharging rate \n",
    "$$\\mathtt{max \\ discharging \\ rate} <= P_{in}[k] <= \\mathtt{max \\ discharging \\ rate} $$\n",
    "- The number of cycles is a parameter that must be exceeded\n",
    "$$ 0 <= N_{cyc}[k] <= \\mathtt{max \\ cycles}$$\n",
    "- The number of years is also limited\n",
    "$$ 0 <= k / 31,536,000 <= \\mathtt{max \\ cycles}$$\n",
    "- The energy is limited by its maximum capacity\n",
    "$$ 0 <= E_{net}[k] <= C_{max}[k]$$\n",
    "- The maximum capacity, although changes, never goes over the original max capacity\n",
    "$$ 0 <= C_{max}[k] <= C_{max}[0]$$\n",
    "## Solver choice \n",
    "- Since the problem is linear. I chose the solver - High performance solver for linear optimisation"
   ]
  },
  {
   "cell_type": "code",
   "execution_count": 1,
   "metadata": {},
   "outputs": [
    {
     "name": "stdout",
     "output_type": "stream",
     "text": [
      "market prices1: [48.47, 49.81, 53.65, 52.48, 47.25, 47.18, 40.24, 38.56, 37.55, 36.56, 39.25, 41.23, 45.68, 44.83, 48.87, 50.73, 45.01, 48.87, 44.41, 42.59, 46.15, 46.19, 54.83, 60.57, 58.75, 59.88, 58.03, 59.72, 55.94, 52.55, 59.43, 61.01, 63.07, 64.91, 63.27, 61.55, 58.82, 55.67, 46.13, 47.03, 48.91, 45.87, 46.95, 46.71, 46.08, 45.77, 45.25, 39.33, 40.23, 40.6, 38.95, 38.8, 37.28, 37.66, 41.06, 44.07, 42.21, 43.08, 54.59, 55.53, 58.52, 48.16, 43.64, 48.24, 51.96, 53.68, 50.84, 50.46, 51.01, 51.98, 52.38, 52.59, 51.94, 50.2, 46.63, 45.63, 46.09, 45.56, 54.11, 55.46, 53.69, 64.71, 77.94, 73.13, 71.63, 65.18, 60.09, 54.67, 53.43, 49.58, 50.96, 47.73, 47.42, 47.13, 48.52, 43.08, 45.97, 47.84, 51.28, 49.45]"
     ]
    }
   ],
   "source": [
    "using IJulia, CSV, DataFrames, JuMP, YAML, Infiltrator, Dates\n",
    "include(\"batterymodel.jl\")\n",
    "include(\"plot_funcs.jl\")\n",
    "\n",
    "input_data = CSV.read(\"data/input_data/market12_data.csv\", DataFrame)\n",
    "config_data = YAML.load_file(\"config.yml\")\n",
    "\n",
    "marketprices1 = input_data.Market_1\n",
    "start_point = DateTime.(input_data.time[1], \"dd/mm/yyyy HH:MM\")\n",
    "params = BatteryModel.BatteryParams(\n",
    "            config_data[\"max_charging_rate\"],\n",
    "            config_data[\"max_discharging_rate\"],\n",
    "            config_data[\"max_storage_volume\"],\n",
    "            config_data[\"charging_efficiency\"],\n",
    "            config_data[\"discharging_efficiency\"],\n",
    "            config_data[\"lifetime_years\"],\n",
    "            config_data[\"lifetime_cycles\"],\n",
    "            config_data[\"degradation_rate\"],\n",
    "            config_data[\"capex\"], \n",
    "            config_data[\"opex\"]\n",
    ")\n",
    "\n",
    "# marketprices1 = marketprices1[1:100]\n",
    "print(\"market prices1: $marketprices1\")\n"
   ]
  },
  {
   "cell_type": "code",
   "execution_count": 2,
   "metadata": {},
   "outputs": [
    {
     "name": "stdout",
     "output_type": "stream",
     "text": [
      "Infiltrator.jl needs a fully-functional Julia REPL.\n",
      "Nearly thereRunning HiGHS 1.7.2 (git hash: 5ce7a2753): Copyright (c) 2024 HiGHS under MIT licence terms\n",
      "Coefficient ranges:\n",
      "  Matrix [5e-02, 2e+00]\n",
      "  Cost   [4e+01, 8e+01]\n",
      "  Bound  [2e+00, 5e+03]\n",
      "  RHS    [0e+00, 0e+00]\n",
      "Presolving model\n",
      "496 rows, 397 cols, 1187 nonzeros  0s\n",
      "341 rows, 342 cols, 1125 nonzeros  0s\n",
      "340 rows, 341 cols, 1129 nonzeros  0s\n",
      "Presolve : Reductions: rows 340(-258); columns 341(-259); elements 1129(-465)\n",
      "Solving the presolved LP\n",
      "Using EKK dual simplex solver - serial\n",
      "  Iteration        Objective     Infeasibilities num(sum)\n",
      "          0    -1.9630678408e+04 Ph1: 295(692.4); Du: 99(19630.7) 0s\n",
      "        281    -2.5704734455e+02 Pr: 0(0); Du: 0(2.84217e-14) 0s\n",
      "Solving the original LP from the solution after postsolve\n",
      "Model   status      : Optimal\n",
      "Simplex   iterations: 281\n",
      "Objective value     : -2.5704734455e+02\n",
      "HiGHS run time      :          0.01\n"
     ]
    },
    {
     "data": {
      "text/plain": [
       "([1.0, 1.0, 0.0, 1.0, 1.0, 1.0, 1.0, 1.0, 1.0, 1.0  …  0.0, 0.0, 0.0, 0.0, 0.0, 0.0, 0.0, 0.0, 0.0, 0.0], [0.0, 0.0, 0.1, 0.0, 0.0, 0.0, 0.0, 0.0, 0.0, 0.0  …  0.2271559684300603, 0.21579817000855728, 0.20500826150812942, 0.19475784843272295, 0.1850199560110868, 0.17576895821053248, 0.16698051030000585, 0.15863148478500555, 0.15069991054575527, 0.1431649150184675], [0.0, 0.05, 0.1, 0.095, 0.14500000000000002, 0.195, 0.245, 0.295, 0.345, 0.39499999999999996  …  0.2271559684300603, 0.21579817000855728, 0.20500826150812942, 0.19475784843272295, 0.1850199560110868, 0.17576895821053248, 0.16698051030000585, 0.15863148478500555, 0.15069991054575527, 0.1431649150184675], [-0.0, -0.0, -0.0, -0.0, -0.0, -0.0, -0.0, -0.0, -0.0, -0.0  …  -0.0, -0.0, -0.0, -0.0, -0.0, -0.0, -0.0, -0.0, 0.0, -0.0], [4.0, 4.0, 4.0, 4.0, 4.0, 4.0, 4.0, 4.0, 4.0, 4.0  …  4.0, 4.0, 4.0, 4.0, 4.0, 4.0, 4.0, 4.0, 4.0, 4.0], [2.0, 2.0, -0.2, 2.0, 2.0, 2.0, 2.0, 2.0, 2.0, 2.0  …  -0.4543119368601206, -0.43159634001711455, -0.41001652301625885, -0.3895156968654459, -0.3700399120221736, -0.35153791642106497, -0.3339610206000117, -0.3172629695700111, -0.30139982109151053, -0.286329830036935])"
      ]
     },
     "execution_count": 2,
     "metadata": {},
     "output_type": "execute_result"
    }
   ],
   "source": [
    "energy_in1, energy_out1, energies, cycle, maximum_capacities, powers = BatteryModel.optimise_battery_charge(marketprices1, params)\n",
    "\n"
   ]
  },
  {
   "cell_type": "code",
   "execution_count": 3,
   "metadata": {},
   "outputs": [
    {
     "data": {
      "text/plain": [
       "\"data/output_data/battery_output_data.cvs\""
      ]
     },
     "execution_count": 3,
     "metadata": {},
     "output_type": "execute_result"
    }
   ],
   "source": [
    "PlotFuncs.plot_battery_performance(marketprices1, energy_in1, energy_out1, energies, powers, cycle, maximum_capacities)\n",
    "\n",
    "PlotFuncs.write_battery_performance(marketprices1, energy_in1, energy_out1, energies, cycle, maximum_capacities, start_point, params)"
   ]
  }
 ],
 "metadata": {
  "kernelspec": {
   "display_name": "Julia 1.10.4",
   "language": "julia",
   "name": "julia-1.10"
  },
  "language_info": {
   "file_extension": ".jl",
   "mimetype": "application/julia",
   "name": "julia",
   "version": "1.10.4"
  }
 },
 "nbformat": 4,
 "nbformat_minor": 2
}
